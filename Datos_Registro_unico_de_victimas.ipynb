{
 "cells": [
  {
   "cell_type": "markdown",
   "metadata": {},
   "source": [
    "# Datos del registro  unico de victimas"
   ]
  },
  {
   "cell_type": "markdown",
   "metadata": {},
   "source": [
    "Estos son datos del Registro unico de victimas.  http://rni.unidadvictimas.gov.co/RUV. Es dificil saber con total seguridad que son estos archivos porque no esta bien definido que hay en ellos."
   ]
  },
  {
   "cell_type": "code",
   "execution_count": 1,
   "metadata": {
    "collapsed": true
   },
   "outputs": [],
   "source": [
    "import pandas as pd\n",
    "import pickle\n",
    "import time\n",
    "# Pandas cuantas filas muestra?\n",
    "pd.set_option('display.max_rows', 100)"
   ]
  },
  {
   "cell_type": "code",
   "execution_count": 2,
   "metadata": {
    "collapsed": false
   },
   "outputs": [
    {
     "name": "stdout",
     "output_type": "stream",
     "text": [
      "Reporte Declaracion.xlsx\r\n",
      "Reporte Desplazados por Enfoque Anio Municipio.xlsx\r\n",
      "Reporte Hogares Desplazados.xlsx\r\n",
      "Reporte Ocurrencia Hecho Victimizante.xlsx\r\n",
      "Reporte Personas Desplazadas.xlsx\r\n",
      "Reporte Personas por Municipio Declaracion.xlsx\r\n",
      "Reporte Personas por Municipio de Ocurrencia.xlsx\r\n",
      "Reporte Personas por Municipio de Siniestro - Directos e Indirectos..xlsx\r\n",
      "Reporteador.xlsx\r\n"
     ]
    }
   ],
   "source": [
    "ls ./data/"
   ]
  },
  {
   "cell_type": "code",
   "execution_count": 3,
   "metadata": {
    "collapsed": false
   },
   "outputs": [],
   "source": [
    "# Reporte_de_ocurrencia = pd.read_excel('./data/Reporte Ocurrencia Hecho Victimizante.xlsx')\n",
    "# Reporte_Declaracion = pd.read_excel('./data/Reporte Declaracion.xlsx')\n",
    "# Reporte_por_deplazados_por_municipio = pd.read_excel('./data/Reporte Desplazados por Enfoque Anio Municipio.xlsx')\n",
    "Reporteador = pd.read_excel('./data/Reporteador.xlsx')"
   ]
  },
  {
   "cell_type": "markdown",
   "metadata": {},
   "source": [
    "# Verificando la consistencia de los datos\n",
    "Parece que el Reporte de archivo Reporte Declaracion y el Reporteador son los mas amplios. Uno se asombra que en Colombia la mayoria de las victimas son desplazados."
   ]
  },
  {
   "cell_type": "code",
   "execution_count": 4,
   "metadata": {
    "collapsed": false,
    "scrolled": true
   },
   "outputs": [
    {
     "name": "stdout",
     "output_type": "stream",
     "text": [
      "8845389\n"
     ]
    }
   ],
   "source": [
    "# print(Reporte_de_ocurrencia['TOTAL'].sum())\n",
    "# print(Reporte_Declaracion['TOTAL'].sum())\n",
    "print(Reporteador['TOTAL'].sum())\n",
    "# print(Reporte_por_deplazados_por_municipio['EXPULSION'].sum())"
   ]
  },
  {
   "cell_type": "markdown",
   "metadata": {},
   "source": [
    "# Unificar los datos\n",
    "Voy a usar el archivo conocido como reportador por el mas facil para un analysis simple. Tambien se puede hacer con los otros pero requirer un poquito mas de trabajo. Puede ser interesante si se quiere hacer una analysis anualizado"
   ]
  },
  {
   "cell_type": "code",
   "execution_count": 5,
   "metadata": {
    "collapsed": false
   },
   "outputs": [],
   "source": [
    "Reporteador = Reporteador.rename(columns={'MUNICIPIO DECLARACION':'municipio', 'DEPARTAMENTO DECLARACION':'departamento'})\n",
    "del Reporteador ['DANE DECLARACION']"
   ]
  },
  {
   "cell_type": "markdown",
   "metadata": {},
   "source": [
    "# Abrir los datos con las victimas cambiar nombres de columas  "
   ]
  },
  {
   "cell_type": "code",
   "execution_count": 6,
   "metadata": {
    "collapsed": false
   },
   "outputs": [],
   "source": [
    "Votos_municipio = pickle.load(open( './plebicito_municipios_20161008.pickle', 'rb'))\n",
    "Votos_municipio = Votos_municipio.rename(columns={'nombre':'municipio'})\n",
    "del Votos_municipio['url'], Votos_municipio['html'], Votos_municipio['votos']\n",
    "del Votos_municipio['total votos/habilitados']"
   ]
  },
  {
   "cell_type": "code",
   "execution_count": 7,
   "metadata": {
    "collapsed": false,
    "scrolled": false
   },
   "outputs": [],
   "source": [
    "Votos_municipio_y_victimas = Votos_municipio.merge(Reporteador, on=['municipio', 'departamento'])"
   ]
  },
  {
   "cell_type": "code",
   "execution_count": 66,
   "metadata": {
    "collapsed": true
   },
   "outputs": [],
   "source": [
    "# Estas columnas no son utiles ya\n"
   ]
  },
  {
   "cell_type": "code",
   "execution_count": 8,
   "metadata": {
    "collapsed": false
   },
   "outputs": [],
   "source": [
    "# Me gusta ver los datos por departamento\n",
    "Votos_municipio_y_victimas = Votos_municipio_y_victimas.sort_values(by='departamento')\n",
    "Votos_municipio_y_victimas = Votos_municipio_y_victimas.reset_index()"
   ]
  },
  {
   "cell_type": "code",
   "execution_count": 9,
   "metadata": {
    "collapsed": false,
    "scrolled": false
   },
   "outputs": [
    {
     "name": "stdout",
     "output_type": "stream",
     "text": [
      "       municipio departamento     Si     No  TOTAL\n",
      "0        LETICIA     AMAZONAS   4403   4463     91\n",
      "1       TARAPACA     AMAZONAS    265     68     16\n",
      "2        LETICIA     AMAZONAS   4403   4463   2376\n",
      "3    PUEBLORRICO    ANTIOQUIA    593   1138     19\n",
      "4      HELICONIA    ANTIOQUIA    632    795   1167\n",
      "5      HELICONIA    ANTIOQUIA    632    795     65\n",
      "6        GUATAPE    ANTIOQUIA   1232   1966   2473\n",
      "7        GUATAPE    ANTIOQUIA   1232   1966     76\n",
      "8         GUARNE    ANTIOQUIA   3870  10604   3348\n",
      "9         GUARNE    ANTIOQUIA   3870  10604    223\n",
      "10     GUADALUPE    ANTIOQUIA    714    587    591\n",
      "11     GUADALUPE    ANTIOQUIA    714    587     29\n",
      "12       GRANADA    ANTIOQUIA   1382   2120  21119\n",
      "13       GRANADA    ANTIOQUIA   1382   2120     95\n",
      "14     GIRARDOTA    ANTIOQUIA   6088  10680   2149\n",
      "15     GIRARDOTA    ANTIOQUIA   6088  10680    233\n",
      "16       GIRALDO    ANTIOQUIA    666    557    612\n",
      "17       GIRALDO    ANTIOQUIA    666    557     40\n",
      "18      HISPANIA    ANTIOQUIA    459    654      6\n",
      "19      FRONTINO    ANTIOQUIA   2148   1744  11675\n",
      "20      FREDONIA    ANTIOQUIA   1703   3064    907\n",
      "21      FREDONIA    ANTIOQUIA   1703   3064     52\n",
      "22      ENVIGADO    ANTIOQUIA  37800  67255   4996\n",
      "23      ENVIGADO    ANTIOQUIA  37800  67255    412\n",
      "24    ENTRERRIOS    ANTIOQUIA    868   1766    293\n",
      "25    ENTRERRIOS    ANTIOQUIA    868   1766     21\n",
      "26       EBEJICO    ANTIOQUIA    967   1788    233\n",
      "27       EBEJICO    ANTIOQUIA    967   1788      6\n",
      "28       DABEIBA    ANTIOQUIA   2971   1622  17489\n",
      "29       DABEIBA    ANTIOQUIA   2971   1622    161\n",
      "30    COPACABANA    ANTIOQUIA   9535  15052   3904\n",
      "31    COPACABANA    ANTIOQUIA   9535  15052    455\n",
      "32     CONCORDIA    ANTIOQUIA    998   2081   2423\n",
      "33     CONCORDIA    ANTIOQUIA    998   2081     49\n",
      "34      FRONTINO    ANTIOQUIA   2148   1744    109\n",
      "35      HISPANIA    ANTIOQUIA    459    654    400\n",
      "36        ITAGUI    ANTIOQUIA  35166  59627   1500\n",
      "37      REMEDIOS    ANTIOQUIA   1186   2229    333\n",
      "38         PEQUE    ANTIOQUIA   1632    608  10475\n",
      "39         PEQUE    ANTIOQUIA   1632    608      8\n",
      "40         PEÑOL    ANTIOQUIA   2032   3265   4626\n",
      "41         PEÑOL    ANTIOQUIA   2032   3265     76\n",
      "42         OLAYA    ANTIOQUIA    273    449    430\n",
      "43         OLAYA    ANTIOQUIA    273    449     16\n",
      "44       NECOCLI    ANTIOQUIA   4359   2860  34232\n",
      "45       NECOCLI    ANTIOQUIA   4359   2860    271\n",
      "46         NECHI    ANTIOQUIA   1937   1799   7025\n",
      "47         NECHI    ANTIOQUIA   1937   1799    864\n",
      "48        NARIÑO    ANTIOQUIA    786   1626     85\n",
      "49        MUTATA    ANTIOQUIA   1846   1016  26205\n",
      "..           ...          ...    ...    ...    ...\n",
      "151       RETIRO    ANTIOQUIA   2145   4703   2154\n",
      "152        TURBO    ANTIOQUIA  11378   8887  83560\n",
      "153      URAMITA    ANTIOQUIA    951    813    157\n",
      "154      URAMITA    ANTIOQUIA    951    813   5073\n",
      "155        URRAO    ANTIOQUIA   2644   2959    291\n",
      "156        URRAO    ANTIOQUIA   2644   2959  28213\n",
      "157     VALDIVIA    ANTIOQUIA   1072   1069    200\n",
      "158        TARSO    ANTIOQUIA    503    691     17\n",
      "159     VALDIVIA    ANTIOQUIA   1072   1069   4674\n",
      "160   VALPARAISO    ANTIOQUIA    597    893    484\n",
      "161      VEGACHI    ANTIOQUIA    503   1268    212\n",
      "162      VEGACHI    ANTIOQUIA    503   1268   2559\n",
      "163      VENECIA    ANTIOQUIA   1097   1767     35\n",
      "164      VENECIA    ANTIOQUIA   1097   1767    755\n",
      "165         YALI    ANTIOQUIA    437    692     16\n",
      "166     ZARAGOZA    ANTIOQUIA   1672   1726    593\n",
      "167         YALI    ANTIOQUIA    437    692    688\n",
      "168      YARUMAL    ANTIOQUIA   2941   6091    535\n",
      "169      YARUMAL    ANTIOQUIA   2941   6091   8743\n",
      "170      YOLOMBO    ANTIOQUIA   1344   2055    156\n",
      "171      YOLOMBO    ANTIOQUIA   1344   2055   4039\n",
      "172   VALPARAISO    ANTIOQUIA    597    893     21\n",
      "173       TARAZA    ANTIOQUIA   3477   2311  15227\n",
      "174        TURBO    ANTIOQUIA  11378   8887   1680\n",
      "175       SONSON    ANTIOQUIA   2319   6550     87\n",
      "176      SEGOVIA    ANTIOQUIA   1516   3073   4199\n",
      "177       SONSON    ANTIOQUIA   2319   6550  14186\n",
      "178     SOPETRAN    ANTIOQUIA   1875   2266     21\n",
      "179     SOPETRAN    ANTIOQUIA   1875   2266   1009\n",
      "180      TAMESIS    ANTIOQUIA   1579   2889     31\n",
      "181      TAMESIS    ANTIOQUIA   1579   2889    808\n",
      "182       SALGAR    ANTIOQUIA    782   1621     73\n",
      "183     SABANETA    ANTIOQUIA   9955  16903   2321\n",
      "184     SABANETA    ANTIOQUIA   9955  16903    257\n",
      "185  SABANALARGA    ANTIOQUIA    778   1501   4705\n",
      "186  SABANALARGA    ANTIOQUIA    778   1501    110\n",
      "187     RIONEGRO    ANTIOQUIA  14361  32596  14518\n",
      "188      SEGOVIA    ANTIOQUIA   1516   3073    212\n",
      "189       SALGAR    ANTIOQUIA    782   1621   3755\n",
      "190       TARAZA    ANTIOQUIA   3477   2311    526\n",
      "191       ARAUCA       ARAUCA   8159  15191    531\n",
      "192       ARAUCA       ARAUCA   8159  15191  38991\n",
      "193    ARAUQUITA       ARAUCA   7440   2289   9270\n",
      "194       FORTUL       ARAUCA   2338   1063    105\n",
      "195       FORTUL       ARAUCA   2338   1063   6273\n",
      "196     SARAVENA       ARAUCA   4457   5168    118\n",
      "197     SARAVENA       ARAUCA   4457   5168  15277\n",
      "198         TAME       ARAUCA   5407   5267    220\n",
      "199         TAME       ARAUCA   5407   5267  23576\n",
      "200    ARAUQUITA       ARAUCA   7440   2289    309\n",
      "\n",
      "[201 rows x 5 columns]\n"
     ]
    }
   ],
   "source": [
    "print(Votos_municipio_y_victimas.loc[0:200,['municipio', 'departamento', 'Si', 'No', 'TOTAL']])"
   ]
  },
  {
   "cell_type": "markdown",
   "metadata": {},
   "source": [
    "# Preservar"
   ]
  },
  {
   "cell_type": "code",
   "execution_count": 11,
   "metadata": {
    "collapsed": true
   },
   "outputs": [],
   "source": [
    "import time\n",
    "day = time.strftime(\"%Y%m%d\")"
   ]
  },
  {
   "cell_type": "code",
   "execution_count": 12,
   "metadata": {
    "collapsed": false
   },
   "outputs": [],
   "source": [
    "Votos_municipio_y_victimas.to_csv('plebicito_municipios_y_victimas{}.csv'.format(day))\n",
    "Votos_municipio_y_victimas.to_excel('plebicito_municipios_y_victimas{}.xls'.format(day))\n",
    "Votos_municipio_y_victimas.to_pickle('plebicito_municipios_y_victimas{}.pickle'.format(day))"
   ]
  }
 ],
 "metadata": {
  "anaconda-cloud": {},
  "kernelspec": {
   "display_name": "Python [Root]",
   "language": "python",
   "name": "Python [Root]"
  },
  "language_info": {
   "codemirror_mode": {
    "name": "ipython",
    "version": 3
   },
   "file_extension": ".py",
   "mimetype": "text/x-python",
   "name": "python",
   "nbconvert_exporter": "python",
   "pygments_lexer": "ipython3",
   "version": "3.5.2"
  }
 },
 "nbformat": 4,
 "nbformat_minor": 0
}
