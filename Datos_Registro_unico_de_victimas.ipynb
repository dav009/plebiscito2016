{
 "cells": [
  {
   "cell_type": "markdown",
   "metadata": {},
   "source": [
    "# Datos del registro  unico de victimas"
   ]
  },
  {
   "cell_type": "markdown",
   "metadata": {},
   "source": [
    "Estos son datos del Registro unico de victimas.  http://rni.unidadvictimas.gov.co/RUV. Es dificil saber con total seguridad que son estos archivos porque no esta bien definido que hay en ellos."
   ]
  },
  {
   "cell_type": "code",
   "execution_count": 1,
   "metadata": {
    "collapsed": true
   },
   "outputs": [],
   "source": [
    "import pandas as pd\n",
    "import pickle\n",
    "import time\n",
    "# Pandas cuantas filas muestra?\n",
    "pd.set_option('display.max_rows', 100)"
   ]
  },
  {
   "cell_type": "code",
   "execution_count": 2,
   "metadata": {
    "collapsed": false
   },
   "outputs": [
    {
     "name": "stdout",
     "output_type": "stream",
     "text": [
      "Reporte Declaracion.xlsx\r\n",
      "Reporte Desplazados por Enfoque Anio Municipio.xlsx\r\n",
      "Reporte Hogares Desplazados.xlsx\r\n",
      "Reporte Ocurrencia Hecho Victimizante.xlsx\r\n",
      "Reporte Personas Desplazadas.xlsx\r\n",
      "Reporte Personas por Municipio Declaracion.xlsx\r\n",
      "Reporte Personas por Municipio de Ocurrencia.xlsx\r\n",
      "Reporte Personas por Municipio de Siniestro - Directos e Indirectos..xlsx\r\n",
      "Reporteador.xlsx\r\n"
     ]
    }
   ],
   "source": [
    "ls ./data/"
   ]
  },
  {
   "cell_type": "markdown",
   "metadata": {},
   "source": [
    "# Unificar los datos\n",
    "Voy a usar el archivo conocido como reportador por el mas facil para un analysis simple. Tambien se puede hacer con los otros pero requirer un poquito mas de trabajo. Puede ser interesante si se quiere hacer una analysis anualizado"
   ]
  },
  {
   "cell_type": "code",
   "execution_count": 3,
   "metadata": {
    "collapsed": false
   },
   "outputs": [],
   "source": [
    "# Reporte_de_ocurrencia = pd.read_excel('./data/Reporte Ocurrencia Hecho Victimizante.xlsx')\n",
    "# Reporte_Declaracion = pd.read_excel('./data/Reporte Declaracion.xlsx')\n",
    "# Reporte_por_deplazados_por_municipio = pd.read_excel('./data/Reporte Desplazados por Enfoque Anio Municipio.xlsx')\n",
    "Reporteador = pd.read_excel('./data/Reporteador.xlsx')\n",
    "Reporteador = Reporteador.rename(columns={'MUNICIPIO DECLARACION':'municipio', 'DEPARTAMENTO DECLARACION':'departamento'})\n",
    "del Reporteador['DANE DECLARACION']\n",
    "del Reporteador['TIPO DE VICTIMA']"
   ]
  },
  {
   "cell_type": "markdown",
   "metadata": {},
   "source": [
    "## remove data that is duplicated"
   ]
  },
  {
   "cell_type": "code",
   "execution_count": 4,
   "metadata": {
    "collapsed": false
   },
   "outputs": [],
   "source": [
    "Reporteador = Reporteador.groupby(['departamento', 'municipio']).sum().reset_index()"
   ]
  },
  {
   "cell_type": "markdown",
   "metadata": {},
   "source": [
    "# Verificando la consistencia de los datos\n",
    "Parece que el Reporte de archivo Reporte Declaracion y el Reporteador son los mas amplios. Uno se asombra que en Colombia la mayoria de las victimas son desplazados."
   ]
  },
  {
   "cell_type": "code",
   "execution_count": 5,
   "metadata": {
    "collapsed": false,
    "scrolled": true
   },
   "outputs": [
    {
     "name": "stdout",
     "output_type": "stream",
     "text": [
      "8845389\n"
     ]
    }
   ],
   "source": [
    "# print(Reporte_de_ocurrencia['TOTAL'].sum())\n",
    "# print(Reporte_Declaracion['TOTAL'].sum())\n",
    "print(Reporteador['TOTAL'].sum())\n",
    "# print(Reporte_por_deplazados_por_municipio['EXPULSION'].sum())"
   ]
  },
  {
   "cell_type": "markdown",
   "metadata": {},
   "source": [
    "# Unificando  con los datos de votacion"
   ]
  },
  {
   "cell_type": "code",
   "execution_count": 14,
   "metadata": {
    "collapsed": false
   },
   "outputs": [],
   "source": [
    "Votos_municipio = pickle.load(open( './plebicito_municipios_20161010.pickle', 'rb'))\n",
    "Votos_municipio = Votos_municipio.rename(columns={'nombre':'municipio'})"
   ]
  },
  {
   "cell_type": "code",
   "execution_count": 15,
   "metadata": {
    "collapsed": false
   },
   "outputs": [
    {
     "name": "stdout",
     "output_type": "stream",
     "text": [
      "Votos Si 5561052\n",
      "Votos No 5667641\n"
     ]
    }
   ],
   "source": [
    "print('Votos Si {:d}'.format(Votos_municipio['Si'].sum()))\n",
    "print('Votos No {:d}'.format(Votos_municipio['No'].sum()))"
   ]
  },
  {
   "cell_type": "code",
   "execution_count": 16,
   "metadata": {
    "collapsed": false,
    "scrolled": false
   },
   "outputs": [],
   "source": [
    "Votos_municipio_y_victimas = Votos_municipio.merge(Reporteador, on=['municipio', 'departamento'])"
   ]
  },
  {
   "cell_type": "code",
   "execution_count": 17,
   "metadata": {
    "collapsed": false
   },
   "outputs": [],
   "source": [
    "# Me gusta ver los datos por departamento\n",
    "Votos_municipio_y_victimas = Votos_municipio_y_victimas.sort_values(by='departamento')\n",
    "Votos_municipio_y_victimas = Votos_municipio_y_victimas.reset_index()"
   ]
  },
  {
   "cell_type": "code",
   "execution_count": 18,
   "metadata": {
    "collapsed": false,
    "scrolled": false
   },
   "outputs": [
    {
     "name": "stdout",
     "output_type": "stream",
     "text": [
      "     municipio departamento      Si      No   TOTAL\n",
      "0      LETICIA     AMAZONAS    4403    4463    2467\n",
      "1     TARAPACA     AMAZONAS     265      68      16\n",
      "2      MURINDO    ANTIOQUIA    1073      44    5089\n",
      "3   MONTEBELLO    ANTIOQUIA     953     776    2258\n",
      "4     MEDELLIN    ANTIOQUIA  253548  431173  625530\n",
      "5    MARINILLA    ANTIOQUIA    5481   11993   10560\n",
      "6        MACEO    ANTIOQUIA     777    1065    2523\n",
      "7     LIBORINA    ANTIOQUIA     933    1674    4535\n",
      "8       JERICO    ANTIOQUIA     957    2341     469\n",
      "9    CHIGORODO    ANTIOQUIA    6322    5745   45152\n",
      "10      ITAGUI    ANTIOQUIA   35166   59627   17162\n"
     ]
    }
   ],
   "source": [
    "print(Votos_municipio_y_victimas.loc[0:10,['municipio', 'departamento', 'Si', 'No', 'TOTAL']])"
   ]
  },
  {
   "cell_type": "markdown",
   "metadata": {},
   "source": [
    "# Preservar"
   ]
  },
  {
   "cell_type": "code",
   "execution_count": 19,
   "metadata": {
    "collapsed": true
   },
   "outputs": [],
   "source": [
    "import time\n",
    "day = time.strftime(\"%Y%m%d\")"
   ]
  },
  {
   "cell_type": "code",
   "execution_count": 22,
   "metadata": {
    "collapsed": false
   },
   "outputs": [],
   "source": [
    "Votos_municipio_y_victimas.to_csv('plebicito_municipios_y_victimas{}.csv'.format(day))\n",
    "Votos_municipio_y_victimas.to_pickle('plebicito_municipios_y_victimas{}.pickle'.format(day))"
   ]
  }
 ],
 "metadata": {
  "anaconda-cloud": {},
  "kernelspec": {
   "display_name": "Python [Root]",
   "language": "python",
   "name": "Python [Root]"
  },
  "language_info": {
   "codemirror_mode": {
    "name": "ipython",
    "version": 3
   },
   "file_extension": ".py",
   "mimetype": "text/x-python",
   "name": "python",
   "nbconvert_exporter": "python",
   "pygments_lexer": "ipython3",
   "version": "3.5.2"
  }
 },
 "nbformat": 4,
 "nbformat_minor": 0
}
