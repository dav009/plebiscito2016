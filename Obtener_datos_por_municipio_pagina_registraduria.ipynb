{
 "cells": [
  {
   "cell_type": "code",
   "execution_count": 1,
   "metadata": {
    "collapsed": false
   },
   "outputs": [],
   "source": [
    "import urllib.request\n",
    "from pandas import Series, DataFrame\n",
    "from pandas.io.html import read_html\n",
    "import pyparsing as py\n",
    "from pyparsing import (Word, Literal, Group, alphanums, OneOrMore, nums, Combine, Optional,\n",
    "                       FollowedBy, StringEnd, alphas, SkipTo)\n",
    "import re"
   ]
  },
  {
   "cell_type": "markdown",
   "metadata": {},
   "source": [
    "# Departamentos and paginas web\n",
    "Esta lista la edite manualmente de la web: \n",
    "http://plebiscito.registraduria.gov.co/99PL/DPLZZZZZZZZZZZZZZZZZ_L1.htm"
   ]
  },
  {
   "cell_type": "code",
   "execution_count": 2,
   "metadata": {
    "collapsed": false
   },
   "outputs": [],
   "source": [
    "depts =\\\n",
    "{\"AMAZONAS\": \"DPL60ZZZZZZZZZZZZZZZ_L1.htm\",  \n",
    "\"ANTIOQUIA\": \"DPL01ZZZZZZZZZZZZZZZ_L1.htm\",  \n",
    "\"ARAUCA\": \"DPL40ZZZZZZZZZZZZZZZ_L1.htm\",  \n",
    "\"ATLANTICO\": \"DPL03ZZZZZZZZZZZZZZZ_L1.htm\",   \n",
    "\"BOLIVAR\": \"DPL05ZZZZZZZZZZZZZZZ_L1.htm\",  \n",
    "\"BOYACA\": \"DPL07ZZZZZZZZZZZZZZZ_L1.htm\",  \n",
    "\"CALDAS\": \"DPL09ZZZZZZZZZZZZZZZ_L1.htm\",  \n",
    "\"CAQUETA\": \"DPL44ZZZZZZZZZZZZZZZ_L1.htm\",  \n",
    "\"CASANARE\": \"DPL46ZZZZZZZZZZZZZZZ_L1.htm\",  \n",
    "\"CAUCA\": \"DPL11ZZZZZZZZZZZZZZZ_L1.htm\",  \n",
    "\"CESAR\": \"DPL12ZZZZZZZZZZZZZZZ_L1.htm\",  \n",
    "\"CHOCO\": \"DPL17ZZZZZZZZZZZZZZZ_L1.htm\",  \n",
    "\"CONSULADOS\": \"DPL88ZZZZZZZZZZZZZZZ_L1.htm\",  \n",
    "\"CORDOBA\": \"DPL13ZZZZZZZZZZZZZZZ_L1.htm\",  \n",
    "\"CUNDINAMARCA\": \"DPL15ZZZZZZZZZZZZZZZ_L1.htm\",  \n",
    "\"GUAINIA\": \"DPL50ZZZZZZZZZZZZZZZ_L1.htm\",  \n",
    "\"GUAVIARE\": \"DPL54ZZZZZZZZZZZZZZZ_L1.htm\",  \n",
    "\"HUILA\": \"DPL19ZZZZZZZZZZZZZZZ_L1.htm\",  \n",
    "\"LA GUAJIRA\": \"DPL48ZZZZZZZZZZZZZZZ_L1.htm\",  \n",
    "\"MAGDALENA\": \"DPL21ZZZZZZZZZZZZZZZ_L1.htm\",  \n",
    "\"META\": \"DPL52ZZZZZZZZZZZZZZZ_L1.htm\",  \n",
    "\"NARIÑO\": \"DPL23ZZZZZZZZZZZZZZZ_L1.htm\",  \n",
    "\"NORTE DE SANTANDER\": \"DPL25ZZZZZZZZZZZZZZZ_L1.htm\",  \n",
    "\"PUTUMAYO\": \"DPL64ZZZZZZZZZZZZZZZ_L1.htm\",  \n",
    "\"QUINDIO\": \"DPL26ZZZZZZZZZZZZZZZ_L1.htm\",  \n",
    "\"RISARALDA\": \"DPL24ZZZZZZZZZZZZZZZ_L1.htm\",  \n",
    "\"SAN ANDRES\": \"DPL56ZZZZZZZZZZZZZZZ_L1.htm\",  \n",
    "\"SANTANDER\": \"DPL27ZZZZZZZZZZZZZZZ_L1.htm\",  \n",
    "\"SUCRE\": \"DPL28ZZZZZZZZZZZZZZZ_L1.htm\",  \n",
    "\"TOLIMA\": \"DPL29ZZZZZZZZZZZZZZZ_L1.htm\",  \n",
    "\"VALLE\": \"DPL31ZZZZZZZZZZZZZZZ_L1.htm\",  \n",
    "\"VAUPES\": \"DPL68ZZZZZZZZZZZZZZZ_L1.htm\",  \n",
    "\"VICHADA\": \"DPL72ZZZZZZZZZZZZZZZ_L1.htm\",\n",
    "\"BOGOTA D.C.\": \"DPL16ZZZZZZZZZZZZZZZ_L1.htm\"}"
   ]
  },
  {
   "cell_type": "code",
   "execution_count": 3,
   "metadata": {
    "collapsed": false
   },
   "outputs": [],
   "source": [
    "depts_df = DataFrame.from_dict(depts, orient='index')\n",
    "depts_df['nombre'] = depts_df.index\n",
    "depts_df.index = [x for x in range(len(depts_df.index))]\n",
    "depts_df.columns = ['url', 'nombre']\n",
    "depts_df['url'] = \"http://plebiscito.registraduria.gov.co/99PL/\" + depts_df['url'] \n",
    "depts_df = depts_df[['nombre', 'url']]"
   ]
  },
  {
   "cell_type": "markdown",
   "metadata": {},
   "source": [
    "# Obtener todos los municipios"
   ]
  },
  {
   "cell_type": "code",
   "execution_count": 4,
   "metadata": {
    "collapsed": false
   },
   "outputs": [],
   "source": [
    "def get_municipios(dept):\n",
    "    depto_url = depto['url']\n",
    "    depto_html = urllib.request.urlopen(depto_url).read()\n",
    "    municipio = re.compile('<option value=\"../\\d+\\w+/DPL(?P<name>\\d+)ZZZZZZZZZZZZ_L1.htm\">(\\w+)</option>')\n",
    "    municipios = municipio.findall(string=depto_html.decode())\n",
    "    municipios = DataFrame(municipios)\n",
    "    municipios.columns = ['Id', 'nombre']\n",
    "    municipios['departamento'] = depto['nombre']\n",
    "    municipios['url'] = \"http://plebiscito.registraduria.gov.co/99PL/DPL\" + municipios['Id'] + \"ZZZZZZZZZZZZ_L1.htm\"\n",
    "    return municipios"
   ]
  },
  {
   "cell_type": "code",
   "execution_count": 5,
   "metadata": {
    "collapsed": false
   },
   "outputs": [],
   "source": [
    "municipios = DataFrame()\n",
    "for i in depts_df.index:\n",
    "    depto = depts_df.iloc[i]\n",
    "    if not depto['nombre'] == 'BOGOTA D.C.':\n",
    "        municipios = municipios.append(get_municipios(depto))\n",
    "    else:\n",
    "        depto['departamento'] = \"BOGOTA D.C.\"\n",
    "        depto['Id'] = \"16ZZZ\"\n",
    "        municipios = municipios.append(depto)\n",
    "# new index\n",
    "municipios.index = range(len(municipios))"
   ]
  },
  {
   "cell_type": "markdown",
   "metadata": {},
   "source": [
    "##  Parser para los datos por municipio"
   ]
  },
  {
   "cell_type": "code",
   "execution_count": 6,
   "metadata": {
    "collapsed": false
   },
   "outputs": [],
   "source": [
    "censo_txt = '8.455 de 31.054 personas habilitadas'\n",
    "votos_txt =  '(5.234 Votos)'\n",
    "validos_txt = '<b>Votos v\\xc3\\xa1lidos</b><br/>6.558'\n",
    "nomarcados_txt = 'Votos no marcados</b><br/>163'\n",
    "nulos_txt = 'Votos nulos</b><br/>286'"
   ]
  },
  {
   "cell_type": "code",
   "execution_count": 7,
   "metadata": {
    "collapsed": false
   },
   "outputs": [],
   "source": [
    "# Obtiene las personas habilitadas\n",
    "integer_point = Combine(Word(nums) + Optional(OneOrMore(Literal('.').suppress() + Word(nums))))\n",
    "ph_txt = Literal('personas habilitadas').suppress()\n",
    "censo = integer_point('votos') + Literal('de').suppress() + integer_point('habilitados') + ph_txt\n",
    "\n",
    "# Votos por el no y el si (primero si despues no )\n",
    "rb = Literal(')').suppress()\n",
    "lb = Literal('(').suppress()\n",
    "voto = lb + integer_point('votos')+ Literal('Votos').suppress() +  rb\n",
    "\n",
    "# Votos validos (mas facil)\n",
    "validos = Literal('Votos válidos</b><br/>').suppress() + integer_point('validos')\n",
    "# Votos no marcados\n",
    "nomarcados = Literal('Votos no marcados</b><br/>').suppress() + integer_point('nomarcados')\n",
    "# Votos nulos\n",
    "nulos = Literal('Votos nulos</b><br/>').suppress() + integer_point('nulos')"
   ]
  },
  {
   "cell_type": "code",
   "execution_count": 8,
   "metadata": {
    "collapsed": false
   },
   "outputs": [],
   "source": [
    "def get_html(url):\n",
    "    html = urllib.request.urlopen(url).read()\n",
    "    return html\n",
    "\n",
    "# def get_from_html(html, rule):\n",
    "#     content = rule.searchString(html.decode('utf-8')).asList()\n",
    "#     return content\n",
    "\n",
    "def get_votos_habilidatos(html):\n",
    "    content= censo.searchString(html.decode('utf-8')).asList()[0]\n",
    "    return content\n",
    "\n",
    "def get_votos(html):\n",
    "    si, no = voto.searchString(html.decode('utf-8')).asList()\n",
    "    return si[0], no[0]\n",
    "\n",
    "def get_validos(html):\n",
    "    val = validos.searchString(html.decode('utf-8')).asList()[0][0]\n",
    "    return val\n",
    "\n",
    "def get_nulos(html):\n",
    "    nul = nulos.searchString(html.decode('utf-8')).asList()[0][0]\n",
    "    return nul\n",
    "    \n",
    "def get_nomarcados(html):\n",
    "    nomarcados_ = nomarcados.searchString(html.decode('utf-8')).asList()[0][0]\n",
    "    return nomarcados_\n",
    "\n",
    "\n",
    "def get_votos_municipios():\n",
    "    print('get the html')\n",
    "    municipios['html'] = municipios['url'].apply(get_html)\n",
    "    print('get votos')\n",
    "    municipios['votos'] = municipios['html'].apply(get_votos)\n",
    "    municipios['Si'] = municipios['votos'].apply(lambda x: x[0])\n",
    "    municipios['No'] = municipios['votos'].apply(lambda x: x[1])\n",
    "    print('get validos')\n",
    "    municipios['validos'] = municipios['html'].apply(get_validos)\n",
    "    print('get nulos')\n",
    "    municipios['nulos'] = municipios['html'].apply(get_nulos)\n",
    "    print('get nomarcados')\n",
    "    municipios['nomarcados'] = municipios['html'].apply(get_nomarcados)\n",
    "    print('get total votos/ habilitados')\n",
    "    municipios['total votos/habilitados'] = municipios['html'].apply(get_votos_habilidatos)\n",
    "    municipios['total votos'] = municipios['total votos/habilitados'].apply(lambda x: x[0])\n",
    "    municipios['habilitados'] = municipios['total votos/habilitados'].apply(lambda x: x[1])"
   ]
  },
  {
   "cell_type": "code",
   "execution_count": 9,
   "metadata": {
    "collapsed": false
   },
   "outputs": [
    {
     "name": "stdout",
     "output_type": "stream",
     "text": [
      "get the html\n",
      "get votos\n",
      "get validos\n",
      "get nulos\n",
      "get nomarcados\n",
      "get total votos/ habilitados\n"
     ]
    }
   ],
   "source": [
    "get_votos_municipios()"
   ]
  },
  {
   "cell_type": "markdown",
   "metadata": {},
   "source": [
    "Preserve"
   ]
  },
  {
   "cell_type": "code",
   "execution_count": 35,
   "metadata": {
    "collapsed": false,
    "scrolled": false
   },
   "outputs": [],
   "source": [
    "import time\n",
    "day = time.strftime(\"%Y%m%d\")\n",
    "cols_sel = municipios.columns.difference(['html', 'total votos/habilitados', 'votos', 'url'])"
   ]
  },
  {
   "cell_type": "code",
   "execution_count": 36,
   "metadata": {
    "collapsed": false
   },
   "outputs": [],
   "source": [
    "municipios[cols_sel].to_csv('plebicito_municipios_{}.csv'.format(day))\n",
    "municipios[cols_sel].to_excel('plebicito_municipios_{}.xls'.format(day))\n",
    "municipios.to_pickle('plebicito_municipios_{}.pickle'.format(day))"
   ]
  }
 ],
 "metadata": {
  "anaconda-cloud": {},
  "kernelspec": {
   "display_name": "Python [Root]",
   "language": "python",
   "name": "Python [Root]"
  },
  "language_info": {
   "codemirror_mode": {
    "name": "ipython",
    "version": 3
   },
   "file_extension": ".py",
   "mimetype": "text/x-python",
   "name": "python",
   "nbconvert_exporter": "python",
   "pygments_lexer": "ipython3",
   "version": "3.5.2"
  }
 },
 "nbformat": 4,
 "nbformat_minor": 0
}
